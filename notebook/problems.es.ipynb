{
 "cells": [
  {
   "cell_type": "markdown",
   "id": "a41f3622",
   "metadata": {},
   "source": [
    "# Ejercicios de probabilidad"
   ]
  },
  {
   "cell_type": "markdown",
   "id": "a6bdbd89",
   "metadata": {},
   "source": [
    "## Ejercicio 1 \n",
    "\n",
    "Dos dados se lanzan una vez y se observa el total obtenido. Usa una simulación para encontrar la probabilidad estimada de que la puntuación sea mayor a 7 o un número par. Una simulación es una repetición del mismo experimento multiples veces para observar su comportamiento:\n",
    "\n",
    "- Ejecuta el experimento 1000 veces (lanza 2 dados 1000 veces, y suma el número de ambos dados).\n",
    "- Lleva ua cuenta de los números y las veces que la suma fue mayor a 7 o un número par.\n",
    "- Divide el número del paso 2 entre el número de iteraciones(1000)."
   ]
  },
  {
   "cell_type": "code",
   "execution_count": 1,
   "id": "8939d892",
   "metadata": {},
   "outputs": [],
   "source": [
    "# TODO"
   ]
  },
  {
   "cell_type": "markdown",
   "id": "55732bca",
   "metadata": {},
   "source": [
    "## Ejercicio 2\n",
    "\n",
    "Una caja contiene 10 bolas blancas, 20 bolas rojas y 30 bolas verdes. Si tomamos 5 bolas de la caja reemplazándolas (tomando una bola, anotando el color y luego regresandola a la caja). Queremos saber la probabilidad de:\n",
    "\n",
    "1. Tomar 3 blancas y 2 rojas.\n",
    "2. Toas todas del mismo color.\n",
    "\n",
    "Ejecuta el experimento 1000 veces y calcula las probabilidades que mencionadas."
   ]
  },
  {
   "cell_type": "code",
   "execution_count": 1,
   "id": "23244d20",
   "metadata": {},
   "outputs": [
    {
     "name": "stdout",
     "output_type": "stream",
     "text": [
      "{0: 'White', 1: 'White', 2: 'White', 3: 'White', 4: 'White', 5: 'White', 6: 'White', 7: 'White', 8: 'White', 9: 'White', 10: 'Red', 11: 'Red', 12: 'Red', 13: 'Red', 14: 'Red', 15: 'Red', 16: 'Red', 17: 'Red', 18: 'Red', 19: 'Red', 20: 'Red', 21: 'Red', 22: 'Red', 23: 'Red', 24: 'Red', 25: 'Red', 26: 'Red', 27: 'Red', 28: 'Red', 29: 'Red', 30: 'Green', 31: 'Green', 32: 'Green', 33: 'Green', 34: 'Green', 35: 'Green', 36: 'Green', 37: 'Green', 38: 'Green', 39: 'Green', 40: 'Green', 41: 'Green', 42: 'Green', 43: 'Green', 44: 'Green', 45: 'Green', 46: 'Green', 47: 'Green', 48: 'Green', 49: 'Green', 50: 'Green', 51: 'Green', 52: 'Green', 53: 'Green', 54: 'Green', 55: 'Green', 56: 'Green', 57: 'Green', 58: 'Green', 59: 'Green'}\n"
     ]
    },
    {
     "data": {
      "text/plain": [
       "{0: 'White',\n",
       " 1: 'White',\n",
       " 2: 'White',\n",
       " 3: 'White',\n",
       " 4: 'White',\n",
       " 5: 'White',\n",
       " 6: 'White',\n",
       " 7: 'White',\n",
       " 8: 'White',\n",
       " 9: 'White',\n",
       " 10: 'Red',\n",
       " 11: 'Red',\n",
       " 12: 'Red',\n",
       " 13: 'Red',\n",
       " 14: 'Red',\n",
       " 15: 'Red',\n",
       " 16: 'Red',\n",
       " 17: 'Red',\n",
       " 18: 'Red',\n",
       " 19: 'Red',\n",
       " 20: 'Red',\n",
       " 21: 'Red',\n",
       " 22: 'Red',\n",
       " 23: 'Red',\n",
       " 24: 'Red',\n",
       " 25: 'Red',\n",
       " 26: 'Red',\n",
       " 27: 'Red',\n",
       " 28: 'Red',\n",
       " 29: 'Red',\n",
       " 30: 'Green',\n",
       " 31: 'Green',\n",
       " 32: 'Green',\n",
       " 33: 'Green',\n",
       " 34: 'Green',\n",
       " 35: 'Green',\n",
       " 36: 'Green',\n",
       " 37: 'Green',\n",
       " 38: 'Green',\n",
       " 39: 'Green',\n",
       " 40: 'Green',\n",
       " 41: 'Green',\n",
       " 42: 'Green',\n",
       " 43: 'Green',\n",
       " 44: 'Green',\n",
       " 45: 'Green',\n",
       " 46: 'Green',\n",
       " 47: 'Green',\n",
       " 48: 'Green',\n",
       " 49: 'Green',\n",
       " 50: 'Green',\n",
       " 51: 'Green',\n",
       " 52: 'Green',\n",
       " 53: 'Green',\n",
       " 54: 'Green',\n",
       " 55: 'Green',\n",
       " 56: 'Green',\n",
       " 57: 'Green',\n",
       " 58: 'Green',\n",
       " 59: 'Green'}"
      ]
     },
     "execution_count": 1,
     "metadata": {},
     "output_type": "execute_result"
    }
   ],
   "source": [
    "ball_box = {}\n",
    "\n",
    "# Crea la cajas con las bolas\n",
    "for i in range(60):\n",
    "    if i < 10:\n",
    "        ball_box[i] = \"White\"\n",
    "    elif (i > 9) and (i < 30):\n",
    "        ball_box[i] = \"Red\"\n",
    "    else:\n",
    "        ball_box[i] = \"Green\"\n",
    "\n",
    "print(ball_box)\n",
    "            \n",
    "# TODO"
   ]
  }
 ],
 "metadata": {
  "kernelspec": {
   "display_name": "Python 3",
   "language": "python",
   "name": "python3"
  },
  "language_info": {
   "codemirror_mode": {
    "name": "ipython",
    "version": 3
   },
   "file_extension": ".py",
   "mimetype": "text/x-python",
   "name": "python",
   "nbconvert_exporter": "python",
   "pygments_lexer": "ipython3",
   "version": "3.11.4"
  }
 },
 "nbformat": 4,
 "nbformat_minor": 5
}
